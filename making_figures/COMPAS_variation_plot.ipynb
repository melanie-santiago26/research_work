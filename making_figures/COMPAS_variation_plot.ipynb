{
 "cells": [
  {
   "cell_type": "markdown",
   "metadata": {},
   "source": [
    "This notebook will take the results of different runs of COMPAS and plot those difference"
   ]
  },
  {
   "cell_type": "code",
   "execution_count": 1,
   "metadata": {},
   "outputs": [],
   "source": [
    "# let's import things\n",
    "import h5py as h5 \n",
    "import pandas as pd\n",
    "from astropy.table import Table\n",
    "from astropy import units as u\n",
    "from astropy import constants as const\n",
    "import numpy as np\n",
    "import matplotlib.pyplot as plt\n",
    "plt.rc('text.latex', preamble=r'\\usepackage{textgreek}')\n",
    "plt.rc('font', family='serif')\n",
    "import sys\n",
    "import os\n",
    "from scipy import stats\n",
    "import seaborn as sns\n",
    "\n",
    "# Add the subdir to sys.path\n",
    "sys.path.append('/home/jovyan/home/research_work/useful_py_scripts/')\n",
    "\n",
    "# Now you can import the module\n",
    "import useful_fncs "
   ]
  },
  {
   "cell_type": "markdown",
   "metadata": {},
   "source": [
    "### 1) Get the results of the merger rate at z = 0 for $\\alpha_{CE}$ of 0.25, 0.5, 0.75, 1, 2"
   ]
  },
  {
   "cell_type": "code",
   "execution_count": 2,
   "metadata": {},
   "outputs": [],
   "source": [
    "# let's make a function where we can get these results quickly \n",
    "\n",
    "def merger_rate_z0_result(pathToweights_H5):\n",
    "\n",
    "    # we first need to gather the information for the file of interest\n",
    "    # reading in the HDF5 file\n",
    "    Data_weights = h5.File(pathToweights_H5,\"r\")\n",
    "\n",
    "    # let's gather the system parameters group \n",
    "    SP_WD_data = pd.DataFrame() # making a pandas dataframe\n",
    "\n",
    "    for key in Data_weights[\"BSE_Double_Compact_Objects\"].keys(): #looping through the \"keys\" or paramters in BSE_System_Parameters\n",
    "\n",
    "        SP_WD_data[key] = Data_weights[\"BSE_Double_Compact_Objects\"][key][()] # adding these columns to the dataframe\n",
    "\n",
    "    # Rates info directly taking out the \n",
    "    merger_SEED = Data_weights['Rates_mu00.025_muz-0.049_alpha-1.79_sigma01.129_sigmaz0.048']['SEED'][()]\n",
    "    rates_DCO = Data_weights['Rates_mu00.025_muz-0.049_alpha-1.79_sigma01.129_sigmaz0.048']['merger_rate'][()]\n",
    "    rates_z0_DCO = Data_weights['Rates_mu00.025_muz-0.049_alpha-1.79_sigma01.129_sigmaz0.048']['merger_rate_z0'][()]\n",
    "    DCO_mask = Data_weights['Rates_mu00.025_muz-0.049_alpha-1.79_sigma01.129_sigmaz0.048']['DCOmask'][()]\n",
    "    redshifts = Data_weights['Rates_mu00.025_muz-0.049_alpha-1.79_sigma01.129_sigmaz0.048']['redshifts'][()]\n",
    "    # rates_info = Data_weights[\"Rates_mu00.025_muz-0.049_alpha-1.79_sigma01.129_sigmaz0.048\"]\n",
    "\n",
    "    Data_weights.close()\n",
    "\n",
    "\n",
    "\n",
    "    #let's next make sure that we are selecting for WD+WD systems\n",
    "    SP_DCO_DATA = SP_WD_data[DCO_mask]\n",
    "\n",
    "    # let's make sure that at least one of these white dwarfs are COWD\n",
    "    HeWD_bool,COWD_bool,ONeWD_bool,HeCOWD_bool,HeONeWD_bool,COHeWD_bool,COONeWD_bool,ONeHeWD_bool,ONeCOWD_bool = useful_fncs.WD_BINARY_BOOLS(SP_DCO_DATA)\n",
    "    carbon_oxygen_bool = np.logical_or(ONeCOWD_bool,np.logical_or(COONeWD_bool,np.logical_or(COHeWD_bool,np.logical_or(COWD_bool,HeCOWD_bool))))\n",
    "    SP_COWD_DATA = SP_DCO_DATA[carbon_oxygen_bool]\n",
    "\n",
    "\n",
    "\n",
    "    # let's now sort our data into the mass regimes we care about\n",
    "    # let's add the flags for specific calssifications of SN Ia\n",
    "\n",
    "    SN_Ia_HVS,two_star_SNIA,Champagne_Supernova = useful_fncs.check_if_SNIA(SP_COWD_DATA['Mass(1)'],SP_COWD_DATA['Mass(2)'])\n",
    "    # adding the flags to the dataframe\n",
    "    SP_COWD_DATA = SP_COWD_DATA.assign(SN_Ia_HVS = SN_Ia_HVS)\n",
    "    SP_COWD_DATA = SP_COWD_DATA.assign(two_star_SNIA = two_star_SNIA)\n",
    "    SP_COWD_DATA = SP_COWD_DATA.assign(Champagne_Supernova = Champagne_Supernova)\n",
    "\n",
    "    # let's now gather the merger rate at redshift zero\n",
    "    WDWD_merger_rate_Z0 = rates_z0_DCO[carbon_oxygen_bool]\n",
    "    SP_COWD_DATA = SP_COWD_DATA.assign(WDWD_merger_rate_Z0 = WDWD_merger_rate_Z0)\n",
    "\n",
    "    # let's now get the values of these merger rates for all of the systems that fall within specific regimes\n",
    "    SN_Ia_HVS_z0_rate = np.sum(SP_COWD_DATA['WDWD_merger_rate_Z0'][SP_COWD_DATA['SN_Ia_HVS']== True])\n",
    "    two_star_SNIA_z0_rate = np.sum(SP_COWD_DATA['WDWD_merger_rate_Z0'][SP_COWD_DATA['two_star_SNIA']== True])\n",
    "    Champagne_Supernova_z0_rate = np.sum(SP_COWD_DATA['WDWD_merger_rate_Z0'][SP_COWD_DATA['Champagne_Supernova']== True])\n",
    "\n",
    "    return([SN_Ia_HVS_z0_rate,two_star_SNIA_z0_rate,Champagne_Supernova_z0_rate])"
   ]
  },
  {
   "cell_type": "code",
   "execution_count": null,
   "metadata": {},
   "outputs": [],
   "source": [
    "merger_rates_z0_CEalpha025 = merger_rate_z0_result('/home/jovyan/home/copy_h5_files/v03.08.01/CEalpha025/N1e6_MassiveWDWD_NSNS_CEalpha025_fbinNone.h5')\n",
    "merger_rates_z0_CEalpha05 = merger_rate_z0_result('/home/jovyan/home/copy_h5_files/v03.08.01/CEalpha05/N1e6_MassiveWDWD_NSNS_CEalpha05_fbinNone.h5')\n",
    "merger_rates_z0_CEalpha075 = merger_rate_z0_result('/home/jovyan/home/copy_h5_files/v03.08.01/CEalpha075/N1e6_MassiveWDWD_NSNS_CEalpha075_fbinNone.h5')\n",
    "merger_rates_z0_CEalpha1 = merger_rate_z0_result('/home/jovyan/home/copy_h5_files/v03.08.01/CEalpha025/N1e6_MassiveWDWD_NSNS_CEalpha025_fbinNone.h5')\n",
    "merger_rates_z0_CEalpha2 = merger_rate_z0_result('/home/jovyan/home/copy_h5_files/v03.08.01/N1e6_MassiveWDWD_NSNS_CEalpha2/N1e6_MassiveWDWD_NSNS_CEalpha2_fbinNone/N1e6_MassiveWDWD_NSNS_CEalpha2_fbinNone.h5')\n"
   ]
  },
  {
   "cell_type": "code",
   "execution_count": null,
   "metadata": {},
   "outputs": [],
   "source": []
  },
  {
   "cell_type": "markdown",
   "metadata": {},
   "source": [
    "### 2) Let's now define the different variations we have"
   ]
  },
  {
   "cell_type": "code",
   "execution_count": 8,
   "metadata": {},
   "outputs": [],
   "source": [
    "variations_compas = [0.25,0.5,0.75,1.0,2.0]"
   ]
  },
  {
   "cell_type": "markdown",
   "metadata": {},
   "source": [
    "### 3) Let's now make the plot!"
   ]
  },
  {
   "cell_type": "code",
   "execution_count": 10,
   "metadata": {},
   "outputs": [
    {
     "data": {
      "text/plain": [
       "[<matplotlib.lines.Line2D at 0x7fac9f7aea40>,\n",
       " <matplotlib.lines.Line2D at 0x7fac9f7aebc0>,\n",
       " <matplotlib.lines.Line2D at 0x7fac9f7aecb0>]"
      ]
     },
     "execution_count": 10,
     "metadata": {},
     "output_type": "execute_result"
    },
    {
     "data": {
      "image/png": "[encoded data removed]",
      "text/plain": [
       "<Figure size 640x480 with 1 Axes>"
      ]
     },
     "metadata": {},
     "output_type": "display_data"
    }
   ],
   "source": [
    "# we need to get all of the information about SN_Ia_HVS in one array\n",
    "plt.plot(0.5,merger_rates_z0,'.')\n"
   ]
  },
  {
   "cell_type": "code",
   "execution_count": null,
   "metadata": {},
   "outputs": [],
   "source": []
  }
 ],
 "metadata": {
  "kernelspec": {
   "display_name": "notebook",
   "language": "python",
   "name": "python3"
  },
  "language_info": {
   "codemirror_mode": {
    "name": "ipython",
    "version": 3
   },
   "file_extension": ".py",
   "mimetype": "text/x-python",
   "name": "python",
   "nbconvert_exporter": "python",
   "pygments_lexer": "ipython3",
   "version": "3.10.14"
  }
 },
 "nbformat": 4,
 "nbformat_minor": 2
}
