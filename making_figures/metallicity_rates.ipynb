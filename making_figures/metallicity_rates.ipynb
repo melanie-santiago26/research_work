{
 "cells": [
  {
   "cell_type": "markdown",
   "metadata": {},
   "source": [
    "This notebook will be used to investigate the event rates with respect to redshift. It will be using some of Lieke's code for binning the metallicites. \n",
    "\n",
    "The goal is to count how many systems are in each metallicity bin and plot them against the event rate"
   ]
  },
  {
   "cell_type": "code",
   "execution_count": 5,
   "metadata": {},
   "outputs": [],
   "source": [
    "# let's import things\n",
    "import h5py as h5 \n",
    "import pandas as pd\n",
    "from astropy.table import Table\n",
    "from astropy import units as u\n",
    "from astropy import constants as const\n",
    "import numpy as np\n",
    "import matplotlib.pyplot as plt\n",
    "plt.rc('text.latex', preamble=r'\\usepackage{textgreek}')\n",
    "plt.rc('font', family='serif')\n",
    "import sys\n",
    "import os\n",
    "\n",
    "# Add the subdir to sys.path\n",
    "sys.path.append('/home/jovyan/home/research_work/useful_py_scripts/')\n",
    "\n",
    "# Now you can import the module\n",
    "import useful_fncs "
   ]
  },
  {
   "cell_type": "markdown",
   "metadata": {},
   "source": [
    "Let's get the WD+WD data"
   ]
  },
  {
   "cell_type": "code",
   "execution_count": 6,
   "metadata": {},
   "outputs": [],
   "source": [
    "# reading in the HDF5 file\n",
    "pathToweights_H5 = '/home/jovyan/home/copy_h5_files/v03.08.01/CEalpha025/N1e6_MassiveWDWD_NSNS_CEalpha025_fbinNone.h5'  #path of the hdf5 file\n",
    "\n",
    "Data_weights = h5.File(pathToweights_H5,\"r\")\n",
    "\n",
    "# let's gather the system parameters group \n",
    "SP_WD_data = pd.DataFrame() # making a pandas dataframe\n",
    "\n",
    "for key in Data_weights[\"BSE_Double_Compact_Objects\"].keys(): #looping through the \"keys\" or paramters in BSE_System_Parameters\n",
    "\n",
    "    SP_WD_data[key] = Data_weights[\"BSE_Double_Compact_Objects\"][key][()] # adding these columns to the dataframe\n",
    "\n",
    "# Rates info directly taking out the \n",
    "merger_SEED = Data_weights['Rates_mu00.025_muz-0.049_alpha-1.79_sigma01.129_sigmaz0.048']['SEED'][()]\n",
    "rates_DCO = Data_weights['Rates_mu00.025_muz-0.049_alpha-1.79_sigma01.129_sigmaz0.048']['merger_rate'][()]\n",
    "rates_z0_DCO = Data_weights['Rates_mu00.025_muz-0.049_alpha-1.79_sigma01.129_sigmaz0.048']['merger_rate_z0'][()]\n",
    "DCO_mask = Data_weights['Rates_mu00.025_muz-0.049_alpha-1.79_sigma01.129_sigmaz0.048']['DCOmask'][()]\n",
    "redshifts = Data_weights['Rates_mu00.025_muz-0.049_alpha-1.79_sigma01.129_sigmaz0.048']['redshifts'][()]\n",
    "# rates_info = Data_weights[\"Rates_mu00.025_muz-0.049_alpha-1.79_sigma01.129_sigmaz0.048\"]\n",
    "\n",
    "Data_weights.close()"
   ]
  },
  {
   "cell_type": "markdown",
   "metadata": {},
   "source": [
    "Let's just select for these systems in our dco table"
   ]
  },
  {
   "cell_type": "code",
   "execution_count": 7,
   "metadata": {},
   "outputs": [],
   "source": [
    "# let's try selecting all systems with white dwarfs now using the np.isin technique\n",
    "\n",
    "# WDWD_mask = np.logical_and(np.isin(SP_WD_data['Stellar_Type(1)'],[10,11,12]),np.isin(SP_WD_data['Stellar_Type(2)'],[10,11,12]))\n",
    "SP_DCO_DATA = SP_WD_data[DCO_mask]\n",
    "\n",
    "# let's make sure that at least one of these white dwarfs are COWD\n",
    "HeWD_bool,COWD_bool,ONeWD_bool,HeCOWD_bool,HeONeWD_bool,COHeWD_bool,COONeWD_bool,ONeHeWD_bool,ONeCOWD_bool = useful_fncs.WD_BINARY_BOOLS(SP_DCO_DATA)\n",
    "carbon_oxygen_bool = np.logical_or(ONeCOWD_bool,np.logical_or(COONeWD_bool,np.logical_or(COHeWD_bool,np.logical_or(COWD_bool,HeCOWD_bool))))\n",
    "SP_COWD_DATA = SP_DCO_DATA[carbon_oxygen_bool]"
   ]
  },
  {
   "cell_type": "code",
   "execution_count": 8,
   "metadata": {},
   "outputs": [
    {
     "name": "stdout",
     "output_type": "stream",
     "text": [
      "min metallicity= 0.00010000005109635157\n",
      "max metallicity= 0.029999923536040494\n"
     ]
    }
   ],
   "source": [
    "# let's look at the ranges of metallicites we have\n",
    "print('min metallicity=',np.min(SP_COWD_DATA['Metallicity@ZAMS(1)']))\n",
    "print('max metallicity=',np.max(SP_COWD_DATA['Metallicity@ZAMS(1)']))\n",
    "Z_bins = np.linspace(np.log10(np.min(SP_COWD_DATA['Metallicity@ZAMS(1)'])),np.log10(np.max(SP_COWD_DATA['Metallicity@ZAMS(1)'])),80)"
   ]
  },
  {
   "cell_type": "markdown",
   "metadata": {},
   "source": [
    "Let's bin the metallicities evenly in log so that when we eventually normalize it, the average star formaing mass needed is just a constant"
   ]
  },
  {
   "cell_type": "code",
   "execution_count": 9,
   "metadata": {},
   "outputs": [
    {
     "data": {
      "text/plain": [
       "array([-4.        , -3.8696252 , -3.73925039, -3.60887559, -3.47850079,\n",
       "       -3.34812599, -3.21775118, -3.08737638, -2.95700158, -2.82662677,\n",
       "       -2.69625197, -2.56587717, -2.43550237, -2.30512756, -2.17475276,\n",
       "       -2.04437796, -1.91400315, -1.78362835, -1.65325355, -1.52287875])"
      ]
     },
     "execution_count": 9,
     "metadata": {},
     "output_type": "execute_result"
    }
   ],
   "source": [
    "# let's first make our bins that we want that are evenly spaced in log\n",
    "metallicities = np.array(SP_COWD_DATA['Metallicity@ZAMS(1)'])\n",
    "metallicities_log = np.log10(metallicities)\n",
    "bins_Z = np.linspace(-4, np.log10(0.03), 20) # making sure we are considereing the bounds of COMPAS (so that np.digitze does not create extra bins)\n",
    "bins_Z\n",
    "\n",
    "# make bins slightly lower than min and slightly higher than min to get all of the systems (10^-4 for lower limit), log10(0.03) for upper limit"
   ]
  },
  {
   "cell_type": "markdown",
   "metadata": {},
   "source": [
    "We now want to count how many systems are in each of these metallicity bins"
   ]
  },
  {
   "cell_type": "code",
   "execution_count": 13,
   "metadata": {},
   "outputs": [],
   "source": [
    "# # using value_counts to count how many systems fit into each bin\n",
    "# print(np.log10(merging_all_WD['Metallicity@ZAMS(1)']).value_counts(sort=False,bins=20))"
   ]
  },
  {
   "cell_type": "code",
   "execution_count": 10,
   "metadata": {},
   "outputs": [
    {
     "data": {
      "text/plain": [
       "Metallicity@ZAMS(1)\n",
       "(-4.0, -3.87]       20374\n",
       "(-3.87, -3.739]     20515\n",
       "(-3.739, -3.609]    21152\n",
       "(-3.609, -3.479]    21521\n",
       "(-3.479, -3.348]    21908\n",
       "(-3.348, -3.218]    22064\n",
       "(-3.218, -3.087]    22215\n",
       "(-3.087, -2.957]    22157\n",
       "(-2.957, -2.827]    23501\n",
       "(-2.827, -2.696]    23388\n",
       "(-2.696, -2.566]    23546\n",
       "(-2.566, -2.436]    23347\n",
       "(-2.436, -2.305]    19592\n",
       "(-2.305, -2.175]    19456\n",
       "(-2.175, -2.044]    21255\n",
       "(-2.044, -1.914]    24762\n",
       "(-1.914, -1.784]    27891\n",
       "(-1.784, -1.653]    27446\n",
       "(-1.653, -1.523]    27636\n",
       "Name: count, dtype: int64"
      ]
     },
     "execution_count": 10,
     "metadata": {},
     "output_type": "execute_result"
    }
   ],
   "source": [
    "counts_bins = pd.cut(np.log10(SP_COWD_DATA['Metallicity@ZAMS(1)']), bins=bins_Z).value_counts(sort=False)\n",
    "counts_bins"
   ]
  },
  {
   "cell_type": "code",
   "execution_count": 11,
   "metadata": {},
   "outputs": [
    {
     "data": {
      "text/plain": [
       "np.int64(433726)"
      ]
     },
     "execution_count": 11,
     "metadata": {},
     "output_type": "execute_result"
    }
   ],
   "source": [
    "counts_bins_array = np.array(counts_bins)\n",
    "# counts_bins_reverse = list(reversed(counts_bins_array))\n",
    "# counts_bins_reverse\n",
    "sum(counts_bins_array) # missing a system?"
   ]
  },
  {
   "cell_type": "code",
   "execution_count": 12,
   "metadata": {},
   "outputs": [
    {
     "data": {
      "text/plain": [
       "Text(0, 0.5, 'Number of WD+WD Systems')"
      ]
     },
     "execution_count": 12,
     "metadata": {},
     "output_type": "execute_result"
    },
    {
     "data": {
      "image/png": "[encoded data removed]",
      "text/plain": [
       "<Figure size 640x480 with 1 Axes>"
      ]
     },
     "metadata": {},
     "output_type": "display_data"
    }
   ],
   "source": [
    "# need to take one less bin in the bins_Z array because the last bin is just anything greater than a certain metallicity\n",
    "plt.plot(bins_Z[1:20], counts_bins_array)\n",
    "plt.xlabel(r\"Metallicity (Z) [$Log_{10} Scale$]\")\n",
    "plt.ylabel(r\"Number of WD+WD Systems\")"
   ]
  },
  {
   "cell_type": "markdown",
   "metadata": {},
   "source": [
    "np.histogram - counting how many things in a cerain bin - another way to do the above\n",
    "\n",
    "np.index?"
   ]
  },
  {
   "cell_type": "code",
   "execution_count": 17,
   "metadata": {},
   "outputs": [],
   "source": [
    "# labels = []\n",
    "# for x in range(20):\n",
    "#     labels.append('bin_'+str(x+1))\n",
    "\n",
    "# df = pd.DataFrame()\n",
    "\n",
    "# df['bin'] = pd.cut(metallicities_log, bins, labels=labels)"
   ]
  },
  {
   "cell_type": "markdown",
   "metadata": {},
   "source": [
    "Let's try a less efficent way. but one that makes more sense to me to count the number of systems in each bin"
   ]
  },
  {
   "cell_type": "code",
   "execution_count": 13,
   "metadata": {},
   "outputs": [
    {
     "ename": "KeyboardInterrupt",
     "evalue": "",
     "output_type": "error",
     "traceback": [
      "\u001b[0;31m---------------------------------------------------------------------------\u001b[0m",
      "\u001b[0;31mKeyboardInterrupt\u001b[0m                         Traceback (most recent call last)",
      "Cell \u001b[0;32mIn[13], line 39\u001b[0m\n\u001b[1;32m     37\u001b[0m \u001b[38;5;28;01mif\u001b[39;00m (np\u001b[38;5;241m.\u001b[39mlog10(systems) \u001b[38;5;241m>\u001b[39m bins_Z[\u001b[38;5;241m4\u001b[39m]) \u001b[38;5;129;01mand\u001b[39;00m (np\u001b[38;5;241m.\u001b[39mlog10(systems) \u001b[38;5;241m<\u001b[39m bins_Z[\u001b[38;5;241m5\u001b[39m]):\n\u001b[1;32m     38\u001b[0m     bin_6\u001b[38;5;241m.\u001b[39mappend(\u001b[38;5;241m1\u001b[39m)\n\u001b[0;32m---> 39\u001b[0m \u001b[38;5;28;01mif\u001b[39;00m (\u001b[43mnp\u001b[49m\u001b[38;5;241;43m.\u001b[39;49m\u001b[43mlog10\u001b[49m\u001b[43m(\u001b[49m\u001b[43msystems\u001b[49m\u001b[43m)\u001b[49m \u001b[38;5;241m>\u001b[39m bins_Z[\u001b[38;5;241m5\u001b[39m]) \u001b[38;5;129;01mand\u001b[39;00m (np\u001b[38;5;241m.\u001b[39mlog10(systems) \u001b[38;5;241m<\u001b[39m bins_Z[\u001b[38;5;241m6\u001b[39m]):\n\u001b[1;32m     40\u001b[0m     bin_7\u001b[38;5;241m.\u001b[39mappend(\u001b[38;5;241m1\u001b[39m)\n\u001b[1;32m     41\u001b[0m \u001b[38;5;28;01mif\u001b[39;00m (np\u001b[38;5;241m.\u001b[39mlog10(systems) \u001b[38;5;241m>\u001b[39m bins_Z[\u001b[38;5;241m6\u001b[39m]) \u001b[38;5;129;01mand\u001b[39;00m (np\u001b[38;5;241m.\u001b[39mlog10(systems) \u001b[38;5;241m<\u001b[39m bins_Z[\u001b[38;5;241m7\u001b[39m]):\n",
      "\u001b[0;31mKeyboardInterrupt\u001b[0m: "
     ]
    }
   ],
   "source": [
    "# let's make empty lists that help count how many of each system fit within each bin\n",
    "\n",
    "bin_1 = []\n",
    "bin_2 = []\n",
    "bin_2 = []\n",
    "bin_3 = []\n",
    "bin_4 = []\n",
    "bin_5 = []\n",
    "bin_6 = []\n",
    "bin_7 = []\n",
    "bin_8 = []\n",
    "bin_9 = []\n",
    "bin_10 = []\n",
    "bin_11 = []\n",
    "bin_12 = []\n",
    "bin_13 = []\n",
    "bin_14 = []\n",
    "bin_15 = []\n",
    "bin_16 = []\n",
    "bin_17 = []\n",
    "bin_18 = []\n",
    "bin_19 = []\n",
    "bin_20 = []\n",
    "\n",
    "# counting how many systems are within each bin by looping through our metallicities \n",
    "for systems in SP_COWD_DATA['Metallicity@ZAMS(1)']:\n",
    "    if np.log10(systems) < bins_Z[0]:\n",
    "        bin_1.append(1)\n",
    "    if (np.log10(systems) > bins_Z[0]) and (np.log10(systems) < bins_Z[1]):\n",
    "        bin_2.append(1)\n",
    "    if (np.log10(systems) > bins_Z[1]) and (np.log10(systems) < bins_Z[2]):\n",
    "        bin_3.append(1)\n",
    "    if (np.log10(systems) > bins_Z[2]) and (np.log10(systems) < bins_Z[3]):\n",
    "        bin_4.append(1)\n",
    "    if (np.log10(systems) > bins_Z[3]) and (np.log10(systems) < bins_Z[4]):\n",
    "        bin_5.append(1)\n",
    "    if (np.log10(systems) > bins_Z[4]) and (np.log10(systems) < bins_Z[5]):\n",
    "        bin_6.append(1)\n",
    "    if (np.log10(systems) > bins_Z[5]) and (np.log10(systems) < bins_Z[6]):\n",
    "        bin_7.append(1)\n",
    "    if (np.log10(systems) > bins_Z[6]) and (np.log10(systems) < bins_Z[7]):\n",
    "        bin_8.append(1)\n",
    "    if (np.log10(systems) > bins_Z[7]) and (np.log10(systems) < bins_Z[8]):\n",
    "        bin_9.append(1)\n",
    "    if (np.log10(systems) > bins_Z[8]) and (np.log10(systems) < bins_Z[9]):\n",
    "        bin_10.append(1)\n",
    "    if (np.log10(systems) > bins_Z[9]) and (np.log10(systems) < bins_Z[10]):\n",
    "        bin_11.append(1)\n",
    "    if (np.log10(systems) > bins_Z[10]) and (np.log10(systems) < bins_Z[11]):\n",
    "        bin_12.append(1)\n",
    "    if (np.log10(systems) > bins_Z[11]) and (np.log10(systems) < bins_Z[12]):\n",
    "        bin_13.append(1)\n",
    "    if (np.log10(systems) > bins_Z[12]) and (np.log10(systems) < bins_Z[13]):\n",
    "        bin_14.append(1)\n",
    "    if (np.log10(systems) > bins_Z[13]) and (np.log10(systems) < bins_Z[14]):\n",
    "        bin_15.append(1)\n",
    "    if (np.log10(systems) > bins_Z[14]) and (np.log10(systems) < bins_Z[15]):\n",
    "        bin_16.append(1)          \n",
    "    if (np.log10(systems) > bins_Z[15]) and (np.log10(systems) < bins_Z[16]):\n",
    "        bin_17.append(1)\n",
    "    if (np.log10(systems) > bins_Z[16]) and (np.log10(systems) < bins_Z[17]):\n",
    "        bin_18.append(1)\n",
    "    if (np.log10(systems) > bins_Z[17]) and (np.log10(systems) < bins_Z[18]):\n",
    "        bin_19.append(1)\n",
    "    if (np.log10(systems) > bins_Z[18]):\n",
    "        bin_20.append(1)"
   ]
  },
  {
   "cell_type": "code",
   "execution_count": 14,
   "metadata": {},
   "outputs": [
    {
     "data": {
      "text/plain": [
       "[0,\n",
       " 14830,\n",
       " 14895,\n",
       " 15320,\n",
       " 15648,\n",
       " 15992,\n",
       " 15939,\n",
       " 16027,\n",
       " 16088,\n",
       " 16929,\n",
       " 16984,\n",
       " 17057,\n",
       " 16854,\n",
       " 14263,\n",
       " 14129,\n",
       " 15341,\n",
       " 17910,\n",
       " 20184,\n",
       " 19927,\n",
       " 19925]"
      ]
     },
     "execution_count": 14,
     "metadata": {},
     "output_type": "execute_result"
    }
   ],
   "source": [
    "# let's make a new list that specifies how many systems are in each bin\n",
    "counts_bin = [len(bin_1),len(bin_2),len(bin_3),len(bin_4),len(bin_5),len(bin_6),len(bin_7),len(bin_8),len(bin_9),len(bin_10),len(bin_11),\\\n",
    "              len(bin_12),len(bin_13),len(bin_14),len(bin_15),len(bin_16),len(bin_17),len(bin_18),len(bin_19),len(bin_20)]\n",
    "counts_bin"
   ]
  },
  {
   "cell_type": "code",
   "execution_count": 15,
   "metadata": {},
   "outputs": [
    {
     "data": {
      "text/plain": [
       "array([-4.        , -3.8696252 , -3.73925039, -3.60887559, -3.47850079,\n",
       "       -3.34812599, -3.21775118, -3.08737638, -2.95700158, -2.82662677,\n",
       "       -2.69625197, -2.56587717, -2.43550237, -2.30512756, -2.17475276,\n",
       "       -2.04437796, -1.91400315, -1.78362835, -1.65325355, -1.52287875])"
      ]
     },
     "execution_count": 15,
     "metadata": {},
     "output_type": "execute_result"
    }
   ],
   "source": [
    "bins_Z"
   ]
  },
  {
   "cell_type": "code",
   "execution_count": 16,
   "metadata": {},
   "outputs": [
    {
     "data": {
      "text/plain": [
       "Text(0, 0.5, 'Number of WD+WD Systems')"
      ]
     },
     "execution_count": 16,
     "metadata": {},
     "output_type": "execute_result"
    },
    {
     "data": {
      "image/png": "[encoded data removed]",
      "text/plain": [
       "<Figure size 640x480 with 1 Axes>"
      ]
     },
     "metadata": {},
     "output_type": "display_data"
    }
   ],
   "source": [
    "# let's plot our counts vs metallicities!\n",
    "\n",
    "plt.plot(bins_Z[1:20], counts_bin[1:20])\n",
    "plt.xlabel(r\"Metallicity (Z) [$Log_{10} Scale$]\")\n",
    "plt.ylabel(r\"Number of WD+WD Systems\")"
   ]
  },
  {
   "cell_type": "markdown",
   "metadata": {},
   "source": [
    "Let's do the same thing but normalize our counts with the amount of star forming mass needed to make the binaries at a each redshift"
   ]
  },
  {
   "cell_type": "code",
   "execution_count": 17,
   "metadata": {},
   "outputs": [],
   "source": [
    "### These functions are from Lieke's Yield code on her github\n",
    "\n",
    "def totalMassEvolvedPerZ(pathCOMPASh5, x2=0.08, x3=0.5, a1=-0.3, a2=-1.3, a3=-2.3, C1=1.,\n",
    "                         binaryFraction=0.7, Mmin_universe=0.05, Mmax_universe=300., sampleSize=2000000,\n",
    "                         metallicity_bins = np.logspace(-4,np.log10(0.03), 10) ):\n",
    "    \"\"\"_summary_\n",
    "\n",
    "    Args:\n",
    "        # COMPAS simulation parameters\n",
    "        pathCOMPASh5 (_type_, optional): path to your COMPAS file. Defaults to None.\n",
    "\n",
    "        # Broken powerlaw (Kroupa IMF) parameters\n",
    "        x1, x2, x3, x4: float, the break points (mass ranges) for the three segments\n",
    "        a1, a2, a3: float, the power law indices \n",
    "        <0.01 - 0.08> a = -0.3, <0.08 - 0.5> a = -1.3, <0.5 - 200> a = -2.3\n",
    "        C1: float, the normalization constant for the first segment\n",
    "        \n",
    "        # Believes about star formation in the Universe\n",
    "        binaryFraction (int, optional): What fraction of stars are in binaries. Default= 1.\n",
    "        Mmin_universe, Mmax_universe (float): the min and max mass that stars in the Universe can be born with  Defaults: 0.01 and 200.\n",
    "\n",
    "    Returns:\n",
    "        _type_: _description_\n",
    "    \"\"\" \n",
    "    x1 = Mmin_universe\n",
    "    x4 = Mmax_universe\n",
    "\n",
    "    # Open the COMPAS file\n",
    "    COMPASdataf = h5.File(pathCOMPASh5, 'r')\n",
    "\n",
    "    # Min and max M sampled in your COMPAS simulation.\n",
    "    COMPAS_m1       = COMPASdataf['BSE_System_Parameters']['Mass@ZAMS(1)'][()]\n",
    "    Mlower_COMPAS   = np.min(COMPAS_m1)\n",
    "    Mupper_COMPAS   = np.max(COMPAS_m1)\n",
    "\n",
    "\n",
    "    ##########################\n",
    "    # Create Sample Universe \n",
    "    ##########################\n",
    "    # we will use 'inverse transform sampling method' to sample our sample Universe from the IMF\n",
    "\n",
    "    ### Primary mass\n",
    "    # first we compute the y-values of the CDF of our IMF at Mmin_universe and Mmax_universe\n",
    "    # Mmin_universe and Mmax_universe have to be between x1 and x4\n",
    "    CDFmin = CDFbrokenPowerLaw(np.array([Mmin_universe]), x1, x2, x3, x4, a1, a2, a3, C1)\n",
    "    CDFmax = CDFbrokenPowerLaw(np.array([Mmax_universe]), x1, x2, x3, x4, a1, a2, a3, C1)\n",
    "\n",
    "    # Now we can sample Uniformly from the CDF between CDFmin and CDFmax\n",
    "    drawM1      = np.random.uniform(CDFmin,CDFmax,sampleSize)\n",
    "    # Convert CDF values back to masses\n",
    "    M1          = invertCDFbrokenPowerLaw(drawM1, x1, x2, x3, x4, a1, a2, a3, C1)\n",
    "\n",
    "    ### Binary fraction\n",
    "    # we want that binaryFraction of the stars are in binaries\n",
    "    # Hence by drawing between 0-1, we have to throw out everything that is above binaryFraction (i.e. = single and m2 = 0)\n",
    "    # ! NOTE that this assumes that the binary Fraction is mass indepent! > Future work to implenet Max Moe ps and qs options\n",
    "    drawBinary      = np.random.uniform(0,1,sampleSize)\n",
    "    maskBinary      = drawBinary < binaryFraction  #booleans\n",
    "\n",
    "    ### Secondary mass\n",
    "    # mass ratio (q = m2/m1) distribution is assumed to be flat \n",
    "    # so then the drawM2 (if it is in a binary) just becomes the mass fraction.\n",
    "    drawM2          = np.random.uniform(0,1,sampleSize)    # we are actually sampling q\n",
    "    M2              = np.zeros(sampleSize)                 #\n",
    "    M2[maskBinary]  = drawM2[maskBinary] * M1[maskBinary]  # = q * m1, all the ones outside the mask remain zero\n",
    "    \n",
    "    totalMassInStarFormation = np.sum(M1) + np.sum(M2)\n",
    "\n",
    "\n",
    "    ##########################\n",
    "    # Select what lies in the range of COMPAS\n",
    "    ##########################\n",
    "    # mask M1 and M2 to see what lies in the range of COMPAS\n",
    "    maskM1          = (M1>=Mlower_COMPAS) & (M1<=Mupper_COMPAS)\n",
    "    maskBinaries    = (M2!=0)\n",
    "    mask_COMPAS     = maskM1 & maskBinaries\n",
    "\n",
    "    totalMassEvolvedCOMPAS = np.sum(M1[mask_COMPAS]) + np.sum(M2[mask_COMPAS])\n",
    "\n",
    "    ##########################\n",
    "    # fraction of total universe that was sampled by COMPAS\n",
    "    fraction_sampled = totalMassEvolvedCOMPAS/float(totalMassInStarFormation)\n",
    "\n",
    "    # average mass of a binary in COMPAS simulation  \n",
    "    AverageMassPerBinaryCOMPAS  = totalMassEvolvedCOMPAS / sum(mask_COMPAS)         \n",
    "\n",
    "    ##########################\n",
    "    # Finally compute the tot mass evolved per Z\n",
    "    ##########################\n",
    "    # load a bit more COMPAS data\n",
    "    COMPAS_m2       = COMPASdataf['BSE_System_Parameters']['Mass@ZAMS(2)'][()]\n",
    "    COMPAS_metals   = COMPASdataf['BSE_System_Parameters']['Metallicity@ZAMS(1)'][()]\n",
    "    uniqueZ_COMPAS, countsZ_COMPAS = np.unique(COMPAS_metals, return_counts=True) #   uniqueZ_COMPAS  = np.unique(COMPAS_metals)\n",
    "    \n",
    "    # Determine if your samples are weighted\n",
    "    boolWeighted = 'mixture_weight' in COMPASdataf['BSE_System_Parameters'].keys()\n",
    "\n",
    "    # samples are weighted we can't just add M1 + M2 from simulation \n",
    "    if boolWeighted: \n",
    "        print('Weighted samples')        \n",
    "        # I assume that if you have more than 100 metallicities, it's not discrete, but a continuous Z distribution\n",
    "        if len(uniqueZ_COMPAS) > 100: \n",
    "            print('using continuous metallicities !! Assumed to be sampled flat-in-log !!')\n",
    "            bin_indices          = np.digitize(COMPAS_metals, metallicity_bins, right=True) # Bin your metallicities\n",
    "            # np.digitize - chekcs which metallicity bin a specific compas metals should fall in (with say which numbered bin the system should be in)\n",
    "            #NbinariesEvolvedPerZ = np.bincount(bin_indices)#, minlength=len(metallicity_bins) + 1) # Count the number of elements in each bin (counts how often each bin index occurs)\n",
    "            # bincount not working - giving a zero mass for the first mass evolved per z\n",
    "            _, NbinariesEvolvedPerZ = np.unique(bin_indices,return_counts=True)\n",
    "\n",
    "\n",
    "        else: \n",
    "            print('using discrete metallicities')\n",
    "            NbinariesEvolvedPerZ    = countsZ_COMPAS\n",
    "\n",
    "        totalMassEvolvedPerMetallicity  = AverageMassPerBinaryCOMPAS * NbinariesEvolvedPerZ    \n",
    "       \n",
    "    # Unweighted samples \n",
    "    else: \n",
    "        print('UN-weighted samples')\n",
    "        total = []\n",
    "        if len(uniqueZ_COMPAS) > 100: \n",
    "            print('using continuous metallicities !! Assumed to be sampled flat-in-log !!')\n",
    "            # loop over each metallicity_bin\n",
    "            for Z_i in range(len(metallicity_bins) - 1):\n",
    "                z_bin_mask = (COMPAS_metals >= metallicity_bins[Z_i] ) & (COMPAS_metals < metallicity_bins[Z_i+1])\n",
    "                total.append( np.sum(COMPAS_m1[z_bin_mask]) + np.sum(COMPAS_m2[z_bin_mask]) )\n",
    "                \n",
    "        else: # Simulation with discrete metallicities\n",
    "            print('using discrete metallicities')\n",
    "            for Z in uniqueZ_COMPAS:\n",
    "                Zmask = COMPAS_metals == Z\n",
    "                total.append( np.sum(COMPAS_m1[Zmask]) + np.sum(COMPAS_m2[Zmask]) )\n",
    "                \n",
    "        MassEvolvedPerZ  = np.array(total)  \n",
    "    \n",
    "        # We need to muliply the mass evolved per metallicity times (1/fraction) to know the total mass evolved per metallicity\n",
    "        totalMassEvolvedPerMetallicity = (MassEvolvedPerZ)/(fraction_sampled)\n",
    "\n",
    "    return totalMassEvolvedPerMetallicity\n",
    "\n",
    "def CDFbrokenPowerLaw(x, x1=0.01, x2=0.08, x3=0.5, x4=200, a1=-0.3, a2=-1.3, a3=-2.3, C1=1):\n",
    "    \"\"\"\n",
    "    CDF values of a three-part broken powerlaw representing a Kroupa IMF by default.\n",
    "    \n",
    "    Parameters:\n",
    "    x: array-like, the input values\n",
    "    x1, x2, x3, x4: float, the break points (mass ranges) for the three segments\n",
    "    a1, a2, a3: float, the power law indices \n",
    "    C1: float, the normalization constant for the first segment\n",
    "    \n",
    "    Returns:\n",
    "    yvalues: array-like, the output values of the CDF\n",
    "    \"\"\"\n",
    "    \n",
    "    # Initialize the output array\n",
    "    yvalues = np.zeros(len(x))\n",
    "    \n",
    "    # Calculate the normalization constants for the other segments\n",
    "    # Ensuring that the next segments start where the previous segment ends\n",
    "    C2 = float(C1 * (x2**(a1-a2)))\n",
    "    C3 = float(C2 * (x3**(a2-a3)))\n",
    "    \n",
    "    # Calculate the normalization factors for the three segments\n",
    "    N1 = float(((1./(a1+1)) * C1 * (x2**(a1+1))) - ((1./(a1+1)) * C1 * (x1**(a1+1))))\n",
    "    N2 = float(((1./(a2+1)) * C2 * (x3**(a2+1))) - ((1./(a2+1)) * C2 * (x2**(a2+1))))\n",
    "    N3 = float(((1./(a3+1)) * C3 * (x4**(a3+1))) - ((1./(a3+1)) * C3 * (x3**(a3+1))))\n",
    "    \n",
    "    # Calculate the denominator of the CDF\n",
    "    bottom = N1+N2+N3\n",
    "    \n",
    "    # Calculate the CDF values for x range: x1<=x<x2\n",
    "    mask1 = (x>=x1) & (x<x2)\n",
    "    top1 = ( (1./(a1+1) ) * C1 * (x[mask1]**(a1+1) ) - (1./(a1+1) ) * C1 * (x1**(a1+1) ) ) \n",
    "    yvalues[mask1] = top1/bottom\n",
    "    \n",
    "    # Calculate the CDF values for x range: x2<=x<x3\n",
    "    mask2 = (x>=x2) & (x<x3)\n",
    "    top2 =  N1 + ( (1./(a2+1) ) * C2 * (x[mask2]**(a2+1) ) - (1./(a2+1)) * C2 * (x2**(a2+1) ) ) \n",
    "    yvalues[mask2] = top2/bottom\n",
    "    \n",
    "    # Calculate the CDF values for x range: x3<=x<=x4\n",
    "    mask3 = (x>=x3) & (x<=x4)\n",
    "    top3 =  N1 + N2 + ( (1./(a3+1)) * C3 * (x[mask3]**(a3+1)) - (1./(a3+1)) * C3 * (x3**(a3+1) ) )\n",
    "    yvalues[mask3] = top3/bottom\n",
    "    \n",
    "    return yvalues\n",
    "\n",
    "\n",
    "def invertCDFbrokenPowerLaw(CDF, x1, x2, x3, x4, a1, a2, a3, C1):\n",
    "    \"\"\"\n",
    "    Invert y-values of a CDF back to x-vals (i.e. the masses)\n",
    "    Specifically for a three-part piece-wise powerlaw representing a Kroupa IMF by default. \n",
    "\n",
    "    Parameters:\n",
    "    CDF: array-like, the CDF values to invert\n",
    "    x1, x2, x3, x4: float, the break points (ranges) for the three segments\n",
    "    a1, a2, a3: float, the power law indices for the three segments\n",
    "    C1: float, the normalization constant for the first segment\n",
    "\n",
    "    Returns:\n",
    "    xvalues: array-like, the inverted CDF values\n",
    "    \"\"\"\n",
    "    \n",
    "    # Calculate the normalization constants for the second and third segments\n",
    "    C2 = float(C1 * (x2**(a1-a2)))\n",
    "    C3 = float(C2 * (x3**(a2-a3)))\n",
    "    \n",
    "    # Calculate the area under the curve for each segment\n",
    "    N1 = float(((1./(a1+1)) * C1 * (x2**(a1+1))) - ((1./(a1+1)) * C1 * (x1**(a1+1))))\n",
    "    N2 = float(((1./(a2+1)) * C2 * (x3**(a2+1))) - ((1./(a2+1)) * C2 * (x2**(a2+1))))\n",
    "    N3 = float(((1./(a3+1)) * C3 * (x4**(a3+1))) - ((1./(a3+1)) * C3 * (x3**(a3+1))))\n",
    "    \n",
    "    # Calculate the CDF values at the breakpoints\n",
    "    CDFx2 = CDFbrokenPowerLaw(np.array([x2,x2]), x1, x2, x3, x4, a1, a2, a3, C1)[0]\n",
    "    CDFx3 = CDFbrokenPowerLaw(np.array([x3,x3]), x1, x2, x3, x4, a1, a2, a3, C1)[0]\n",
    "\n",
    "    # Initialize the output array\n",
    "    xvalues = np.zeros(len(CDF))\n",
    "    \n",
    "    # Calculate the inverse CDF values for the first segment\n",
    "    mask1 = (CDF < CDFx2)\n",
    "    xvalues[mask1] =  (((CDF[mask1]*(N1+N2+N3))  + \\\n",
    "                      ( (1./(a1+1))*C1*(x1**(a1+1))))/((1./(a1+1))*C1))**(1./(a1+1))\n",
    "    \n",
    "    # Calculate the inverse CDF values for the second segment\n",
    "    mask2 = (CDFx2<= CDF) & (CDF < CDFx3)\n",
    "    xvalues[mask2] = ((((CDF[mask2]*(N1+N2+N3))-(N1))  + \\\n",
    "                      ( (1./(a2+1))*C2*(x2**(a2+1))))/((1./(a2+1))*C2))**(1./(a2+1))\n",
    "    \n",
    "    # Calculate the inverse CDF values for the third segment\n",
    "    mask3 = (CDFx3<= CDF) \n",
    "    xvalues[mask3] = ((((CDF[mask3]*(N1+N2+N3))-(N1+N2))  + \\\n",
    "                      ((1./(a3+1))*C3*(x3**(a3+1))))/((1./(a3+1))*C3))**(1./(a3+1))\n",
    "    \n",
    "    # Return the inverse CDF values\n",
    "    return xvalues"
   ]
  },
  {
   "cell_type": "code",
   "execution_count": 10,
   "metadata": {},
   "outputs": [
    {
     "name": "stdout",
     "output_type": "stream",
     "text": [
      "Weighted samples\n",
      "using continuous metallicities !! Assumed to be sampled flat-in-log !!\n",
      "Total mass evolved per Z for WD+WD: [247425.44280774 246276.61703987 245606.85626832 244797.56200269\n",
      " 246127.78131286 244220.82356052 244239.42802639 244346.40370518\n",
      " 244960.35107911 244239.42802639 243932.45433943 244299.89254049\n",
      " 245802.20316002 244411.51933575 242848.74420213 243830.12977711\n",
      " 244504.54166513 244760.35307094 244485.93719926]\n"
     ]
    }
   ],
   "source": [
    "# Get the total mass evolved per Z\n",
    "# think about hoe bonary fraction changes for different mass bins (Offner, Moe 2022) - figure 1\n",
    "# i don't think m_min and m_max are of the simulation - thye ar eof the universe so keep these values\n",
    "totalMassEvolvedPerMetallicity_WD = totalMassEvolvedPerZ(pathToweights_H5,\n",
    "                         binaryFraction=0.7, Mmin_universe=0.05, Mmax_universe=300.,\n",
    "                         metallicity_bins = 10**(bins_Z))\n",
    "print('Total mass evolved per Z for WD+WD:', totalMassEvolvedPerMetallicity_WD)"
   ]
  },
  {
   "cell_type": "code",
   "execution_count": 11,
   "metadata": {},
   "outputs": [],
   "source": [
    "center_bin_z = (bins_Z[1:]+bins_Z[:-1])/2"
   ]
  },
  {
   "cell_type": "code",
   "execution_count": 12,
   "metadata": {},
   "outputs": [
    {
     "name": "stdout",
     "output_type": "stream",
     "text": [
      "Length of center metallicity bins list 19\n",
      "Length of the total mass evlolved per metallicity list 19\n"
     ]
    }
   ],
   "source": [
    "print(\"Length of center metallicity bins list\", len(center_bin_z))\n",
    "print(\"Length of the total mass evlolved per metallicity list\", len(totalMassEvolvedPerMetallicity_WD))"
   ]
  },
  {
   "cell_type": "markdown",
   "metadata": {},
   "source": [
    "It seems like the first mass evolved per metallicity is zero and represents the stars appearing in our simulation? We need no mass to envolve the inital mass? The length of this list is one more than the bins so we just need everything in total mass evolve per Z except for the first element"
   ]
  },
  {
   "cell_type": "markdown",
   "metadata": {},
   "source": [
    "We now need to find the amount of systems that fall into each bin and then weight this count with the weights column "
   ]
  },
  {
   "cell_type": "code",
   "execution_count": 13,
   "metadata": {},
   "outputs": [
    {
     "name": "stdout",
     "output_type": "stream",
     "text": [
      "[19  3 11 ... 10 13  5]\n",
      "19\n"
     ]
    }
   ],
   "source": [
    "bin_indices_WD = np.digitize(np.log10(SP_COWD_DATA['Metallicity@ZAMS(1)']), bins_Z) # Bin your metallicities, make sure both bins in log space\n",
    "# np.digitize - checks which metallicity bin a specific compas metals should fall in (with say which numbered bin the system should be in)\n",
    "# return an array of numbers that represent the bins (the 1st metallicity is in bin 5...)\n",
    "print(bin_indices_WD)\n",
    "print(len(np.unique(bin_indices_WD)))"
   ]
  },
  {
   "cell_type": "code",
   "execution_count": 14,
   "metadata": {},
   "outputs": [],
   "source": [
    "# we now want to find the actual number of systems that should fall into each bin by considering the weights fo each system\n",
    "weighted_counts_WD = [] # let's make an empty list to add to later\n",
    "\n",
    "# we can loop through our first to 20th metallicity bin\n",
    "for bin in np.unique(bin_indices_WD):\n",
    "    metals_bool = np.where(bin_indices_WD==bin)[0] # we want to see where in our array a system falls within to a certain bin\n",
    "    # for example we want to see where in bin_indicies the systems fall into the first metallicity bin \n",
    "    weighted_counts_WD.append(sum(SP_COWD_DATA['mixture_weight'].iloc[metals_bool])) # we then select only the weights pertaining to a certian metallicity bin and sum them up"
   ]
  },
  {
   "cell_type": "code",
   "execution_count": 15,
   "metadata": {},
   "outputs": [
    {
     "data": {
      "text/plain": [
       "19"
      ]
     },
     "execution_count": 15,
     "metadata": {},
     "output_type": "execute_result"
    }
   ],
   "source": [
    "len(weighted_counts_WD)"
   ]
  },
  {
   "cell_type": "markdown",
   "metadata": {},
   "source": [
    "Let's now compute the formation efficency by divinding these weighted counts and the mass evolved to form these systems for each metallicity"
   ]
  },
  {
   "cell_type": "code",
   "execution_count": 16,
   "metadata": {},
   "outputs": [],
   "source": [
    "# divide the weighted sums with the total mass evolved oer metallicity\n",
    "formation_efficency = weighted_counts_WD/totalMassEvolvedPerMetallicity_WD\n",
    "# N_wdwd/M_evolv\n",
    "# number of systems formed / mass evolved for these systems to be made (take the nondiscrete and weighted samples metallicity)"
   ]
  },
  {
   "cell_type": "code",
   "execution_count": 17,
   "metadata": {},
   "outputs": [
    {
     "data": {
      "text/plain": [
       "array([0.00625875, 0.00655598, 0.00620382, 0.00616715, 0.00598699,\n",
       "       0.0056512 , 0.00569172, 0.00590793, 0.00556177, 0.00494135,\n",
       "       0.00481771, 0.00525653, 0.00425342, 0.00420484, 0.00412985,\n",
       "       0.00490066, 0.00507263, 0.00521719, 0.00517179])"
      ]
     },
     "execution_count": 17,
     "metadata": {},
     "output_type": "execute_result"
    }
   ],
   "source": [
    "formation_efficency"
   ]
  },
  {
   "cell_type": "markdown",
   "metadata": {},
   "source": [
    "Let's use this formation efficency to get the overall trend of the metallicity distirbution"
   ]
  },
  {
   "cell_type": "code",
   "execution_count": 18,
   "metadata": {},
   "outputs": [
    {
     "data": {
      "text/plain": [
       "Text(0, 0.5, 'Number of WD+WD Systems')"
      ]
     },
     "execution_count": 18,
     "metadata": {},
     "output_type": "execute_result"
    },
    {
     "data": {
      "image/png": "[encoded data removed]",
      "text/plain": [
       "<Figure size 640x480 with 1 Axes>"
      ]
     },
     "metadata": {},
     "output_type": "display_data"
    }
   ],
   "source": [
    "# let's plot our counts vs metallicities!\n",
    "\n",
    "plt.plot(center_bin_z, formation_efficency)\n",
    "plt.xlabel(r\"Metallicity (Z) [$Log_{10} Scale$]\")\n",
    "plt.ylabel(r\"Number of WD+WD Systems\")"
   ]
  },
  {
   "cell_type": "markdown",
   "metadata": {},
   "source": [
    "We now want to find the metallicity yield for the specific mass regimes we care about"
   ]
  },
  {
   "cell_type": "code",
   "execution_count": 19,
   "metadata": {},
   "outputs": [],
   "source": [
    "# let's add the flags for specific calssifications of SN Ia\n",
    "\n",
    "SN_Ia_HVS,two_star_SNIA,Champagne_Supernova = useful_fncs.check_if_SNIA(SP_COWD_DATA['Mass(1)'],SP_COWD_DATA['Mass(2)'])\n",
    "# adding the flags to the dataframe\n",
    "SP_COWD_DATA = SP_COWD_DATA.assign(SN_Ia_HVS = SN_Ia_HVS)\n",
    "SP_COWD_DATA = SP_COWD_DATA.assign(two_star_SNIA = two_star_SNIA)\n",
    "SP_COWD_DATA = SP_COWD_DATA.assign(Champagne_Supernova = Champagne_Supernova)"
   ]
  },
  {
   "cell_type": "code",
   "execution_count": 25,
   "metadata": {},
   "outputs": [],
   "source": [
    "### formation efficeny for SN Ia HVS\n",
    "\n",
    "bin_indices_WD_SN_Ia_HVS = np.digitize(np.log10(SP_COWD_DATA['Metallicity@ZAMS(1)'][SP_COWD_DATA['SN_Ia_HVS']==True]), bins_Z) # Bin your metallicities, make sure both bins in log space\n",
    "# np.digitize - checks which metallicity bin a specific compas metals should fall in (with say which numbered bin the system should be in)\n",
    "# return an array of numbers that represent the bins (the 1st metallicity is in bin 5...)\n",
    "\n",
    "# we now want to find the actual number of systems that should fall into each bin by considering the weights fo each system\n",
    "weighted_counts_WD_SN_Ia_HVS = [] # let's make an empty list to add to later\n",
    "\n",
    "# we can loop through our first to 20th metallicity bin\n",
    "for bin in np.unique(bin_indices_WD_SN_Ia_HVS):\n",
    "    metals_bool = np.where(bin_indices_WD_SN_Ia_HVS==bin)[0] # we want to see where in our array a system falls within to a certain bin\n",
    "    # for example we want to see where in bin_indicies the systems fall into the first metallicity bin \n",
    "    weighted_counts_WD_SN_Ia_HVS.append(sum(SP_COWD_DATA['mixture_weight'][SP_COWD_DATA['SN_Ia_HVS']==True].iloc[metals_bool])) # we then select only the weights pertaining to a certian metallicity bin and sum them up\n",
    "\n",
    "formation_efficency_SN_Ia_HVS = weighted_counts_WD_SN_Ia_HVS/totalMassEvolvedPerMetallicity_WD\n",
    "# N_wdwd/M_evolv\n",
    "# number of systems formed / mass evolved for these systems to be made (take the nondiscrete and weighted samples metallicity)"
   ]
  },
  {
   "cell_type": "code",
   "execution_count": 30,
   "metadata": {},
   "outputs": [],
   "source": [
    "### formation efficeny for SN Ia HVS\n",
    "\n",
    "bin_indices_WD_two_star_SNIA = np.digitize(np.log10(SP_COWD_DATA['Metallicity@ZAMS(1)'][SP_COWD_DATA['two_star_SNIA']==True]), bins_Z) # Bin your metallicities, make sure both bins in log space\n",
    "# np.digitize - checks which metallicity bin a specific compas metals should fall in (with say which numbered bin the system should be in)\n",
    "# return an array of numbers that represent the bins (the 1st metallicity is in bin 5...)\n",
    "\n",
    "# we now want to find the actual number of systems that should fall into each bin by considering the weights fo each system\n",
    "weighted_counts_WD_two_star_SNIA = [] # let's make an empty list to add to later\n",
    "\n",
    "# we can loop through our first to 20th metallicity bin\n",
    "for bin in np.unique(bin_indices_WD_two_star_SNIA):\n",
    "    metals_bool = np.where(bin_indices_WD_two_star_SNIA==bin)[0] # we want to see where in our array a system falls within to a certain bin\n",
    "    # for example we want to see where in bin_indicies the systems fall into the first metallicity bin \n",
    "    weighted_counts_WD_two_star_SNIA.append(sum(SP_COWD_DATA['mixture_weight'][SP_COWD_DATA['two_star_SNIA']==True].iloc[metals_bool])) # we then select only the weights pertaining to a certian metallicity bin and sum them up\n",
    "\n",
    "formation_efficency_two_star_SNIA = weighted_counts_WD_two_star_SNIA/totalMassEvolvedPerMetallicity_WD\n",
    "# N_wdwd/M_evolv\n",
    "# number of systems formed / mass evolved for these systems to be made (take the nondiscrete and weighted samples metallicity)"
   ]
  },
  {
   "cell_type": "code",
   "execution_count": 33,
   "metadata": {},
   "outputs": [],
   "source": [
    "### formation efficeny for SN Ia HVS\n",
    "\n",
    "bin_indices_WD_Champagne_Supernova = np.digitize(np.log10(SP_COWD_DATA['Metallicity@ZAMS(1)'][SP_COWD_DATA['Champagne_Supernova']==True]), bins_Z) # Bin your metallicities, make sure both bins in log space\n",
    "# np.digitize - checks which metallicity bin a specific compas metals should fall in (with say which numbered bin the system should be in)\n",
    "# return an array of numbers that represent the bins (the 1st metallicity is in bin 5...)\n",
    "\n",
    "# we now want to find the actual number of systems that should fall into each bin by considering the weights fo each system\n",
    "weighted_counts_WD_Champagne_Supernova = [] # let's make an empty list to add to later\n",
    "\n",
    "# we can loop through our first to 20th metallicity bin\n",
    "for bin in np.unique(bin_indices_WD_Champagne_Supernova):\n",
    "    metals_bool = np.where(bin_indices_WD_Champagne_Supernova==bin)[0] # we want to see where in our array a system falls within to a certain bin\n",
    "    # for example we want to see where in bin_indicies the systems fall into the first metallicity bin \n",
    "    weighted_counts_WD_Champagne_Supernova.append(sum(SP_COWD_DATA['mixture_weight'][SP_COWD_DATA['Champagne_Supernova']==True].iloc[metals_bool])) # we then select only the weights pertaining to a certian metallicity bin and sum them up\n",
    "\n",
    "formation_efficency_Champagne_Supernova = weighted_counts_WD_Champagne_Supernova/totalMassEvolvedPerMetallicity_WD\n",
    "# N_wdwd/M_evolv\n",
    "# number of systems formed / mass evolved for these systems to be made (take the nondiscrete and weighted samples metallicity)"
   ]
  },
  {
   "cell_type": "code",
   "execution_count": 44,
   "metadata": {},
   "outputs": [
    {
     "data": {
      "text/plain": [
       "<matplotlib.legend.Legend at 0x7f9286258070>"
      ]
     },
     "execution_count": 44,
     "metadata": {},
     "output_type": "execute_result"
    },
    {
     "data": {
      "image/png": "[encoded data removed]",
      "text/plain": [
       "<Figure size 640x480 with 1 Axes>"
      ]
     },
     "metadata": {},
     "output_type": "display_data"
    }
   ],
   "source": [
    "# let's plot our counts vs metallicities!\n",
    "\n",
    "plt.plot(center_bin_z, formation_efficency_SN_Ia_HVS, color='firebrick', label='SN Ia HVS')\n",
    "plt.plot(center_bin_z, formation_efficency_two_star_SNIA, color='mediumorchid', label='Two Star SN IA')\n",
    "plt.plot(center_bin_z, formation_efficency_Champagne_Supernova, color='peru', label='Champagne Supernova')\n",
    "plt.xlabel(r\"Metallicity (Z) [$\\log_{10}(Z)$]\", fontsize=15)\n",
    "plt.ylabel(r\"$\\mathrm{dN}$/$dM_{star-forming}$)\",fontsize=15)\n",
    "\n",
    "plt.legend()"
   ]
  },
  {
   "cell_type": "markdown",
   "metadata": {},
   "source": [
    "Both methods get me the same plot and values! We are just missing one system in each method"
   ]
  },
  {
   "cell_type": "markdown",
   "metadata": {},
   "source": [
    "Let's do this again for neutron star - neutron star systems"
   ]
  },
  {
   "cell_type": "code",
   "execution_count": 31,
   "metadata": {},
   "outputs": [],
   "source": [
    "# reading in the HDF5 file\n",
    "pathTorates_NS = '/home/jovyan/CompasOutput/v02.46.01/N1e6_Fid_NSNS_AIS/CosmicIntegration/Rate_info.h5' #path of the hdf5 file\n",
    "\n",
    "Data_rates_NS = h5.File(pathTorates_NS)"
   ]
  },
  {
   "cell_type": "code",
   "execution_count": 32,
   "metadata": {},
   "outputs": [
    {
     "data": {
      "text/plain": [
       "<KeysViewHDF5 ['DCOmask', 'SEED', 'merger_rate', 'redshifts']>"
      ]
     },
     "execution_count": 32,
     "metadata": {},
     "output_type": "execute_result"
    }
   ],
   "source": [
    "list(Data_rates_NS['Rates_mu00.025_muz-0.049_alpha-1.79_sigma01.129_sigmaz0.048_a0.017_b1.487_c4.442_d5.886_zBinned'].keys())\n",
    "rates_info_NS = Data_rates_NS['Rates_mu00.025_muz-0.049_alpha-1.79_sigma01.129_sigmaz0.048_a0.017_b1.487_c4.442_d5.886_zBinned']\n",
    "rates_info_NS.keys()"
   ]
  },
  {
   "cell_type": "code",
   "execution_count": 33,
   "metadata": {},
   "outputs": [],
   "source": [
    "dco_mask_NS = rates_info_NS['DCOmask'][()]"
   ]
  },
  {
   "cell_type": "code",
   "execution_count": 34,
   "metadata": {},
   "outputs": [],
   "source": [
    "# reading in the HDF5 file\n",
    "pathToweights_NS = '/home/jovyan/CompasOutput/v02.46.01/N1e6_Fid_NSNS_AIS/MainRun/COMPAS_Output_wWeights.h5' #path of the hdf5 file\n",
    "\n",
    "Data_weights_NS = h5.File(pathToweights_NS)"
   ]
  },
  {
   "cell_type": "code",
   "execution_count": 35,
   "metadata": {},
   "outputs": [],
   "source": [
    "# we want to read in the bse_RLOF to get information about thes different systems\n",
    "\n",
    "DCO_NS_data = pd.DataFrame() # making a pandas dataframe\n",
    "\n",
    "for key in Data_weights_NS[\"BSE_Double_Compact_Objects\"].keys(): #looping through the \"keys\" or paramters in BSE_System_Parameters\n",
    "\n",
    "    DCO_NS_data[key] = Data_weights_NS[\"BSE_Double_Compact_Objects\"][key][()] # adding these columns to the dataframe"
   ]
  },
  {
   "cell_type": "code",
   "execution_count": 36,
   "metadata": {},
   "outputs": [
    {
     "data": {
      "text/html": [
       "<div>\n",
       "<style scoped>\n",
       "    .dataframe tbody tr th:only-of-type {\n",
       "        vertical-align: middle;\n",
       "    }\n",
       "\n",
       "    .dataframe tbody tr th {\n",
       "        vertical-align: top;\n",
       "    }\n",
       "\n",
       "    .dataframe thead th {\n",
       "        text-align: right;\n",
       "    }\n",
       "</style>\n",
       "<table border=\"1\" class=\"dataframe\">\n",
       "  <thead>\n",
       "    <tr style=\"text-align: right;\">\n",
       "      <th></th>\n",
       "      <th>CE_Event_Counter</th>\n",
       "      <th>Coalescence_Time</th>\n",
       "      <th>Eccentricity@DCO</th>\n",
       "      <th>Immediate_RLOF&gt;CE</th>\n",
       "      <th>MT_Donor_Hist(1)</th>\n",
       "      <th>MT_Donor_Hist(2)</th>\n",
       "      <th>Mass(1)</th>\n",
       "      <th>Mass(2)</th>\n",
       "      <th>Merges_Hubble_Time</th>\n",
       "      <th>Metallicity@ZAMS(1)</th>\n",
       "      <th>...</th>\n",
       "      <th>SEED</th>\n",
       "      <th>SemiMajorAxis@DCO</th>\n",
       "      <th>Stellar_Type(1)</th>\n",
       "      <th>Stellar_Type(2)</th>\n",
       "      <th>Time</th>\n",
       "      <th>dmMT(1)</th>\n",
       "      <th>dmMT(2)</th>\n",
       "      <th>dmWinds(1)</th>\n",
       "      <th>dmWinds(2)</th>\n",
       "      <th>mixture_weight</th>\n",
       "    </tr>\n",
       "  </thead>\n",
       "  <tbody>\n",
       "    <tr>\n",
       "      <th>323</th>\n",
       "      <td>1</td>\n",
       "      <td>4.914255</td>\n",
       "      <td>0.144223</td>\n",
       "      <td>0</td>\n",
       "      <td>b'2               '</td>\n",
       "      <td>b'4-8             '</td>\n",
       "      <td>1.210342</td>\n",
       "      <td>1.442315</td>\n",
       "      <td>1</td>\n",
       "      <td>0.000686</td>\n",
       "      <td>...</td>\n",
       "      <td>7235</td>\n",
       "      <td>0.002952</td>\n",
       "      <td>13</td>\n",
       "      <td>13</td>\n",
       "      <td>38.082441</td>\n",
       "      <td>0.000099</td>\n",
       "      <td>-1.448854</td>\n",
       "      <td>0.0</td>\n",
       "      <td>0.0</td>\n",
       "      <td>0.024294</td>\n",
       "    </tr>\n",
       "    <tr>\n",
       "      <th>1336</th>\n",
       "      <td>1</td>\n",
       "      <td>110.465241</td>\n",
       "      <td>0.730318</td>\n",
       "      <td>0</td>\n",
       "      <td>b'2               '</td>\n",
       "      <td>b'4-8             '</td>\n",
       "      <td>1.260087</td>\n",
       "      <td>1.424028</td>\n",
       "      <td>1</td>\n",
       "      <td>0.000537</td>\n",
       "      <td>...</td>\n",
       "      <td>29725</td>\n",
       "      <td>0.012377</td>\n",
       "      <td>13</td>\n",
       "      <td>13</td>\n",
       "      <td>39.974896</td>\n",
       "      <td>0.000087</td>\n",
       "      <td>-1.417040</td>\n",
       "      <td>0.0</td>\n",
       "      <td>0.0</td>\n",
       "      <td>0.028337</td>\n",
       "    </tr>\n",
       "    <tr>\n",
       "      <th>1759</th>\n",
       "      <td>1</td>\n",
       "      <td>3594.070404</td>\n",
       "      <td>0.356025</td>\n",
       "      <td>0</td>\n",
       "      <td>b'5               '</td>\n",
       "      <td>b'8               '</td>\n",
       "      <td>1.480496</td>\n",
       "      <td>1.171439</td>\n",
       "      <td>1</td>\n",
       "      <td>0.025743</td>\n",
       "      <td>...</td>\n",
       "      <td>39167</td>\n",
       "      <td>0.016939</td>\n",
       "      <td>13</td>\n",
       "      <td>13</td>\n",
       "      <td>24.544319</td>\n",
       "      <td>0.000072</td>\n",
       "      <td>-1.093873</td>\n",
       "      <td>0.0</td>\n",
       "      <td>0.0</td>\n",
       "      <td>0.011341</td>\n",
       "    </tr>\n",
       "    <tr>\n",
       "      <th>1915</th>\n",
       "      <td>1</td>\n",
       "      <td>15.038578</td>\n",
       "      <td>0.292517</td>\n",
       "      <td>0</td>\n",
       "      <td>b'4-8             '</td>\n",
       "      <td>b'8               '</td>\n",
       "      <td>1.188053</td>\n",
       "      <td>1.203831</td>\n",
       "      <td>1</td>\n",
       "      <td>0.001179</td>\n",
       "      <td>...</td>\n",
       "      <td>42602</td>\n",
       "      <td>0.003843</td>\n",
       "      <td>13</td>\n",
       "      <td>13</td>\n",
       "      <td>38.306424</td>\n",
       "      <td>0.000179</td>\n",
       "      <td>-1.376143</td>\n",
       "      <td>0.0</td>\n",
       "      <td>0.0</td>\n",
       "      <td>0.025722</td>\n",
       "    </tr>\n",
       "    <tr>\n",
       "      <th>1955</th>\n",
       "      <td>1</td>\n",
       "      <td>6.854551</td>\n",
       "      <td>0.692189</td>\n",
       "      <td>0</td>\n",
       "      <td>b'2               '</td>\n",
       "      <td>b'4-8             '</td>\n",
       "      <td>1.260033</td>\n",
       "      <td>1.195963</td>\n",
       "      <td>1</td>\n",
       "      <td>0.013255</td>\n",
       "      <td>...</td>\n",
       "      <td>43466</td>\n",
       "      <td>0.005260</td>\n",
       "      <td>13</td>\n",
       "      <td>13</td>\n",
       "      <td>36.808308</td>\n",
       "      <td>0.000033</td>\n",
       "      <td>-1.205352</td>\n",
       "      <td>0.0</td>\n",
       "      <td>0.0</td>\n",
       "      <td>0.023426</td>\n",
       "    </tr>\n",
       "    <tr>\n",
       "      <th>...</th>\n",
       "      <td>...</td>\n",
       "      <td>...</td>\n",
       "      <td>...</td>\n",
       "      <td>...</td>\n",
       "      <td>...</td>\n",
       "      <td>...</td>\n",
       "      <td>...</td>\n",
       "      <td>...</td>\n",
       "      <td>...</td>\n",
       "      <td>...</td>\n",
       "      <td>...</td>\n",
       "      <td>...</td>\n",
       "      <td>...</td>\n",
       "      <td>...</td>\n",
       "      <td>...</td>\n",
       "      <td>...</td>\n",
       "      <td>...</td>\n",
       "      <td>...</td>\n",
       "      <td>...</td>\n",
       "      <td>...</td>\n",
       "      <td>...</td>\n",
       "    </tr>\n",
       "    <tr>\n",
       "      <th>46667</th>\n",
       "      <td>1</td>\n",
       "      <td>2.035270</td>\n",
       "      <td>0.304401</td>\n",
       "      <td>0</td>\n",
       "      <td>b'2               '</td>\n",
       "      <td>b'4-8             '</td>\n",
       "      <td>1.242316</td>\n",
       "      <td>1.573235</td>\n",
       "      <td>1</td>\n",
       "      <td>0.002852</td>\n",
       "      <td>...</td>\n",
       "      <td>999727</td>\n",
       "      <td>0.002643</td>\n",
       "      <td>13</td>\n",
       "      <td>13</td>\n",
       "      <td>35.825917</td>\n",
       "      <td>0.000153</td>\n",
       "      <td>-1.611445</td>\n",
       "      <td>0.0</td>\n",
       "      <td>0.0</td>\n",
       "      <td>0.013998</td>\n",
       "    </tr>\n",
       "    <tr>\n",
       "      <th>46668</th>\n",
       "      <td>1</td>\n",
       "      <td>0.978486</td>\n",
       "      <td>0.008180</td>\n",
       "      <td>0</td>\n",
       "      <td>b'2               '</td>\n",
       "      <td>b'4-8             '</td>\n",
       "      <td>1.260145</td>\n",
       "      <td>1.554736</td>\n",
       "      <td>1</td>\n",
       "      <td>0.000184</td>\n",
       "      <td>...</td>\n",
       "      <td>999770</td>\n",
       "      <td>0.002022</td>\n",
       "      <td>13</td>\n",
       "      <td>13</td>\n",
       "      <td>36.031843</td>\n",
       "      <td>0.000145</td>\n",
       "      <td>-1.593994</td>\n",
       "      <td>0.0</td>\n",
       "      <td>0.0</td>\n",
       "      <td>0.025480</td>\n",
       "    </tr>\n",
       "    <tr>\n",
       "      <th>46671</th>\n",
       "      <td>1</td>\n",
       "      <td>2.060512</td>\n",
       "      <td>0.283681</td>\n",
       "      <td>0</td>\n",
       "      <td>b'2               '</td>\n",
       "      <td>b'4-8             '</td>\n",
       "      <td>1.260112</td>\n",
       "      <td>1.308423</td>\n",
       "      <td>1</td>\n",
       "      <td>0.000471</td>\n",
       "      <td>...</td>\n",
       "      <td>999894</td>\n",
       "      <td>0.002454</td>\n",
       "      <td>13</td>\n",
       "      <td>13</td>\n",
       "      <td>40.501417</td>\n",
       "      <td>0.000112</td>\n",
       "      <td>-1.432607</td>\n",
       "      <td>0.0</td>\n",
       "      <td>0.0</td>\n",
       "      <td>0.007313</td>\n",
       "    </tr>\n",
       "    <tr>\n",
       "      <th>46672</th>\n",
       "      <td>1</td>\n",
       "      <td>0.808230</td>\n",
       "      <td>0.271005</td>\n",
       "      <td>0</td>\n",
       "      <td>b'2               '</td>\n",
       "      <td>b'4-8             '</td>\n",
       "      <td>1.260144</td>\n",
       "      <td>1.752863</td>\n",
       "      <td>1</td>\n",
       "      <td>0.000146</td>\n",
       "      <td>...</td>\n",
       "      <td>999931</td>\n",
       "      <td>0.002160</td>\n",
       "      <td>13</td>\n",
       "      <td>13</td>\n",
       "      <td>36.358539</td>\n",
       "      <td>0.000144</td>\n",
       "      <td>-1.707163</td>\n",
       "      <td>0.0</td>\n",
       "      <td>0.0</td>\n",
       "      <td>0.017477</td>\n",
       "    </tr>\n",
       "    <tr>\n",
       "      <th>46673</th>\n",
       "      <td>1</td>\n",
       "      <td>3.532409</td>\n",
       "      <td>0.072546</td>\n",
       "      <td>0</td>\n",
       "      <td>b'2               '</td>\n",
       "      <td>b'4-8             '</td>\n",
       "      <td>1.260175</td>\n",
       "      <td>1.230998</td>\n",
       "      <td>1</td>\n",
       "      <td>0.000139</td>\n",
       "      <td>...</td>\n",
       "      <td>999954</td>\n",
       "      <td>0.002562</td>\n",
       "      <td>13</td>\n",
       "      <td>13</td>\n",
       "      <td>40.055799</td>\n",
       "      <td>0.000175</td>\n",
       "      <td>-1.473617</td>\n",
       "      <td>0.0</td>\n",
       "      <td>0.0</td>\n",
       "      <td>0.006812</td>\n",
       "    </tr>\n",
       "  </tbody>\n",
       "</table>\n",
       "<p>3433 rows × 24 columns</p>\n",
       "</div>"
      ],
      "text/plain": [
       "       CE_Event_Counter  Coalescence_Time  Eccentricity@DCO  \\\n",
       "323                   1          4.914255          0.144223   \n",
       "1336                  1        110.465241          0.730318   \n",
       "1759                  1       3594.070404          0.356025   \n",
       "1915                  1         15.038578          0.292517   \n",
       "1955                  1          6.854551          0.692189   \n",
       "...                 ...               ...               ...   \n",
       "46667                 1          2.035270          0.304401   \n",
       "46668                 1          0.978486          0.008180   \n",
       "46671                 1          2.060512          0.283681   \n",
       "46672                 1          0.808230          0.271005   \n",
       "46673                 1          3.532409          0.072546   \n",
       "\n",
       "       Immediate_RLOF>CE     MT_Donor_Hist(1)     MT_Donor_Hist(2)   Mass(1)  \\\n",
       "323                    0  b'2               '  b'4-8             '  1.210342   \n",
       "1336                   0  b'2               '  b'4-8             '  1.260087   \n",
       "1759                   0  b'5               '  b'8               '  1.480496   \n",
       "1915                   0  b'4-8             '  b'8               '  1.188053   \n",
       "1955                   0  b'2               '  b'4-8             '  1.260033   \n",
       "...                  ...                  ...                  ...       ...   \n",
       "46667                  0  b'2               '  b'4-8             '  1.242316   \n",
       "46668                  0  b'2               '  b'4-8             '  1.260145   \n",
       "46671                  0  b'2               '  b'4-8             '  1.260112   \n",
       "46672                  0  b'2               '  b'4-8             '  1.260144   \n",
       "46673                  0  b'2               '  b'4-8             '  1.260175   \n",
       "\n",
       "        Mass(2)  Merges_Hubble_Time  Metallicity@ZAMS(1)  ...    SEED  \\\n",
       "323    1.442315                   1             0.000686  ...    7235   \n",
       "1336   1.424028                   1             0.000537  ...   29725   \n",
       "1759   1.171439                   1             0.025743  ...   39167   \n",
       "1915   1.203831                   1             0.001179  ...   42602   \n",
       "1955   1.195963                   1             0.013255  ...   43466   \n",
       "...         ...                 ...                  ...  ...     ...   \n",
       "46667  1.573235                   1             0.002852  ...  999727   \n",
       "46668  1.554736                   1             0.000184  ...  999770   \n",
       "46671  1.308423                   1             0.000471  ...  999894   \n",
       "46672  1.752863                   1             0.000146  ...  999931   \n",
       "46673  1.230998                   1             0.000139  ...  999954   \n",
       "\n",
       "       SemiMajorAxis@DCO  Stellar_Type(1)  Stellar_Type(2)       Time  \\\n",
       "323             0.002952               13               13  38.082441   \n",
       "1336            0.012377               13               13  39.974896   \n",
       "1759            0.016939               13               13  24.544319   \n",
       "1915            0.003843               13               13  38.306424   \n",
       "1955            0.005260               13               13  36.808308   \n",
       "...                  ...              ...              ...        ...   \n",
       "46667           0.002643               13               13  35.825917   \n",
       "46668           0.002022               13               13  36.031843   \n",
       "46671           0.002454               13               13  40.501417   \n",
       "46672           0.002160               13               13  36.358539   \n",
       "46673           0.002562               13               13  40.055799   \n",
       "\n",
       "        dmMT(1)   dmMT(2)  dmWinds(1)  dmWinds(2)  mixture_weight  \n",
       "323    0.000099 -1.448854         0.0         0.0        0.024294  \n",
       "1336   0.000087 -1.417040         0.0         0.0        0.028337  \n",
       "1759   0.000072 -1.093873         0.0         0.0        0.011341  \n",
       "1915   0.000179 -1.376143         0.0         0.0        0.025722  \n",
       "1955   0.000033 -1.205352         0.0         0.0        0.023426  \n",
       "...         ...       ...         ...         ...             ...  \n",
       "46667  0.000153 -1.611445         0.0         0.0        0.013998  \n",
       "46668  0.000145 -1.593994         0.0         0.0        0.025480  \n",
       "46671  0.000112 -1.432607         0.0         0.0        0.007313  \n",
       "46672  0.000144 -1.707163         0.0         0.0        0.017477  \n",
       "46673  0.000175 -1.473617         0.0         0.0        0.006812  \n",
       "\n",
       "[3433 rows x 24 columns]"
      ]
     },
     "execution_count": 36,
     "metadata": {},
     "output_type": "execute_result"
    }
   ],
   "source": [
    "merging_all_NS = DCO_NS_data[dco_mask_NS]\n",
    "merging_all_NS"
   ]
  },
  {
   "cell_type": "code",
   "execution_count": 37,
   "metadata": {},
   "outputs": [
    {
     "data": {
      "text/plain": [
       "array([-4.        , -3.8696316 , -3.73926319, -3.60889479, -3.47852639,\n",
       "       -3.34815799, -3.21778958, -3.08742118, -2.95705278, -2.82668438,\n",
       "       -2.69631597, -2.56594757, -2.43557917, -2.30521077, -2.17484236,\n",
       "       -2.04447396, -1.91410556, -1.78373716, -1.65336875, -1.52300035])"
      ]
     },
     "execution_count": 37,
     "metadata": {},
     "output_type": "execute_result"
    }
   ],
   "source": [
    "# let's first make our bins that we want that are evenly spaced in log\n",
    "metallicities_NSNS = np.array(merging_all_NS['Metallicity@ZAMS(1)'])\n",
    "metallicities_log_NSNS = np.log10(metallicities)\n",
    "even_Z_NSNS = np.linspace(-4, np.max(metallicities_log_NSNS), 20)\n",
    "bins_Z_NSNS = even_Z_NSNS\n",
    "bins_Z_NSNS"
   ]
  },
  {
   "cell_type": "markdown",
   "metadata": {},
   "source": [
    "We now want to count how many systems are in each of these metallicity bins"
   ]
  },
  {
   "cell_type": "code",
   "execution_count": 38,
   "metadata": {},
   "outputs": [
    {
     "name": "stdout",
     "output_type": "stream",
     "text": [
      "Weighted samples\n",
      "using continuous metallicities !! Assumed to be sampled flat-in-log !!\n",
      "Total mass evolved per Z: [0.00000000e+00 1.09749063e+06 1.10153586e+06 1.10046809e+06\n",
      " 1.09455424e+06 1.08843505e+06 1.08457463e+06 1.09882535e+06\n",
      " 1.08935909e+06 1.07929734e+06 1.09566309e+06 1.08395860e+06\n",
      " 1.07615561e+06 1.07139168e+06 1.06543676e+06 1.07287014e+06\n",
      " 1.06071390e+06 1.06948200e+06 1.05457418e+06 1.04870140e+06\n",
      " 6.98162317e+02]\n"
     ]
    }
   ],
   "source": [
    "# Get the total mass evolved per Z\n",
    "# think about hoe bonary fraction changes fro different mass bins (Offner, Moe 2022) - figure 1\n",
    "totalMassEvolvedPerMetallicity_NS = totalMassEvolvedPerZ(pathToweights_NS,\n",
    "                         binaryFraction=0.7, Mmin_universe=0.05, Mmax_universe=300.,\n",
    "                         metallicity_bins = 10**(bins_Z_NSNS))\n",
    "print('Total mass evolved per Z:', totalMassEvolvedPerMetallicity_NS)"
   ]
  },
  {
   "cell_type": "code",
   "execution_count": 39,
   "metadata": {},
   "outputs": [
    {
     "data": {
      "text/plain": [
       "21"
      ]
     },
     "execution_count": 39,
     "metadata": {},
     "output_type": "execute_result"
    }
   ],
   "source": [
    "len(totalMassEvolvedPerMetallicity_NS)"
   ]
  },
  {
   "cell_type": "code",
   "execution_count": 40,
   "metadata": {},
   "outputs": [
    {
     "name": "stdout",
     "output_type": "stream",
     "text": [
      "19\n"
     ]
    }
   ],
   "source": [
    "bin_indices_NS = np.digitize(np.log10(merging_all_NS['Metallicity@ZAMS(1)']), bins_Z_NSNS) # Bin your metallicities, make sure both bins in log space\n",
    "# np.digitize - checks which metallicity bin a specific compas metals should fall in (with say which numbered bin the system should be in)\n",
    "# return an array of numbers that represent the bins (the 1st metallicity is in bin 5...)\n",
    "print(len(np.unique(bin_indices_NS)))"
   ]
  },
  {
   "cell_type": "code",
   "execution_count": 41,
   "metadata": {},
   "outputs": [],
   "source": [
    "# weights = np.array(merging_all_NS['mixture_weight']) # let's gather the micture weights we have for these systems\n",
    "weighted_counts_NS = [] # let's make an empty list to add to later\n",
    "\n",
    "# we can loop through our first to 20th metallicity bin\n",
    "for bin in np.unique(bin_indices_NS):\n",
    "    metals_bool = np.where(bin_indices_NS==bin)[0] # we want to see where in our array a system falls within to a certain bin\n",
    "    # for example we want to see where in bin_indicies the systems fall into the first metallicity bin \n",
    "    weighted_counts_NS.append(sum(merging_all_NS['mixture_weight'].iloc[metals_bool])) # we then select only the weights pertaining to a certian metallicity bin and sum them up"
   ]
  },
  {
   "cell_type": "code",
   "execution_count": 42,
   "metadata": {},
   "outputs": [
    {
     "ename": "ValueError",
     "evalue": "operands could not be broadcast together with shapes (19,) (20,) ",
     "output_type": "error",
     "traceback": [
      "\u001b[0;31m---------------------------------------------------------------------------\u001b[0m",
      "\u001b[0;31mValueError\u001b[0m                                Traceback (most recent call last)",
      "Cell \u001b[0;32mIn[42], line 3\u001b[0m\n\u001b[1;32m      1\u001b[0m \u001b[38;5;66;03m# divide the weighted sums with the total mass evolved oer metallicity\u001b[39;00m\n\u001b[0;32m----> 3\u001b[0m formation_efficency_NS \u001b[38;5;241m=\u001b[39m \u001b[43mweighted_counts_NS\u001b[49m\u001b[38;5;241;43m/\u001b[39;49m\u001b[43mtotalMassEvolvedPerMetallicity_NS\u001b[49m\u001b[43m[\u001b[49m\u001b[38;5;241;43m1\u001b[39;49m\u001b[43m:\u001b[49m\u001b[43m]\u001b[49m\n\u001b[1;32m      4\u001b[0m \u001b[38;5;66;03m# number of systems formed / mass evolved for these systems to be made (take the nondiscrete and weighted samples metallicity)\u001b[39;00m\n",
      "\u001b[0;31mValueError\u001b[0m: operands could not be broadcast together with shapes (19,) (20,) "
     ]
    }
   ],
   "source": [
    "# divide the weighted sums with the total mass evolved oer metallicity\n",
    "\n",
    "formation_efficency_NS = weighted_counts_NS/totalMassEvolvedPerMetallicity_NS[1:]\n",
    "# number of systems formed / mass evolved for these systems to be made (take the nondiscrete and weighted samples metallicity)"
   ]
  },
  {
   "cell_type": "code",
   "execution_count": null,
   "metadata": {},
   "outputs": [
    {
     "data": {
      "text/plain": [
       "Text(0, 0.5, 'Number of NSNS Systems')"
      ]
     },
     "execution_count": 43,
     "metadata": {},
     "output_type": "execute_result"
    },
    {
     "data": {
      "image/png": "[encoded data removed]",
      "text/plain": [
       "<Figure size 640x480 with 1 Axes>"
      ]
     },
     "metadata": {},
     "output_type": "display_data"
    }
   ],
   "source": [
    "# need to take one less bin in the bins_Z array because the last bin is just anything greater than a certain metallicity\n",
    "plt.plot(bins_Z_NSNS[1:20], np.log10(counts_bins_NSNS_array/totalMassEvolvedPerMetallicity[1:20])) # this does not seem correct \n",
    "plt.xlabel(r\"$\\mathrm{Log_{10}}$ ($Z$/$\\mathrm{0.014}$)]\")\n",
    "plt.ylabel(r\"Number of NSNS Systems\")"
   ]
  },
  {
   "cell_type": "markdown",
   "metadata": {},
   "source": [
    "Let's try the histogram route"
   ]
  },
  {
   "cell_type": "code",
   "execution_count": null,
   "metadata": {},
   "outputs": [
    {
     "data": {
      "text/plain": [
       "Text(0, 0.5, 'dN/$dM_{2}$ [$Log_{10} Scale$]')"
      ]
     },
     "execution_count": 44,
     "metadata": {},
     "output_type": "execute_result"
    },
    {
     "data": {
      "image/png": "[encoded data removed]",
      "text/plain": [
       "<Figure size 640x480 with 1 Axes>"
      ]
     },
     "metadata": {},
     "output_type": "display_data"
    }
   ],
   "source": [
    "# let's make a histogram of the masses of these NBS with the weights of this histogram being the merger rates (to get the mass distrubition curvw), change what pass you are plotting\n",
    "\n",
    "# below makes it so if i change the number of bins or anything like that it will not change th eshaoe if the distribution\n",
    "hist, bin_edges = np.histogram(np.log10(merging_all_NS['Metallicity@ZAMS(1)']), weights=merging_all_NS['mixture_weight'])\n",
    "center_bins = (bin_edges[:-1] + bin_edges[1:])/2\n",
    "bin_width = np.diff(bin_edges)\n",
    "\n",
    "plt.plot(center_bins,(hist/bin_width))\n",
    "# plt.step(center_bins,hist/bin_width,where='mid')\n",
    "\n",
    "plt.xlabel(r\"Metallicity of Primary Star @ZAMS[$Z_{sol}$]\")\n",
    "plt.yscale('log')\n",
    "# plt.ylim(1e-1,1e3)\n",
    "plt.ylabel(r\"dN/$dM_{2}$ [$Log_{10} Scale$]\")\n",
    "# plt.title(\"Mass Distribution of the Primary Star\")\\\n",
    "\n"
   ]
  },
  {
   "cell_type": "code",
   "execution_count": null,
   "metadata": {},
   "outputs": [],
   "source": []
  },
  {
   "cell_type": "code",
   "execution_count": 43,
   "metadata": {},
   "outputs": [],
   "source": [
    "# i think I also need to find the anount of mass caused to form a NSNS merger oer metallicity\n",
    "# do this for the neutron star simulation and divide by total mass evloved per metallicity and see if comparable to what Lieke sent\n",
    "# because using AIS, we need to sum the weights of each system to count whihc systems go to which bins accuratley - if I used np.histogram (use the flag weights)\n",
    "# or use what I did before but instead of counting each system, "
   ]
  },
  {
   "cell_type": "code",
   "execution_count": null,
   "metadata": {},
   "outputs": [],
   "source": []
  },
  {
   "cell_type": "markdown",
   "metadata": {},
   "source": [
    "Let's try to normalize this with the average star forming mass needed for each metallicity"
   ]
  },
  {
   "cell_type": "code",
   "execution_count": null,
   "metadata": {},
   "outputs": [],
   "source": []
  },
  {
   "cell_type": "code",
   "execution_count": null,
   "metadata": {},
   "outputs": [],
   "source": []
  },
  {
   "cell_type": "code",
   "execution_count": null,
   "metadata": {},
   "outputs": [],
   "source": []
  }
 ],
 "metadata": {
  "kernelspec": {
   "display_name": "notebook",
   "language": "python",
   "name": "python3"
  },
  "language_info": {
   "codemirror_mode": {
    "name": "ipython",
    "version": 3
   },
   "file_extension": ".py",
   "mimetype": "text/x-python",
   "name": "python",
   "nbconvert_exporter": "python",
   "pygments_lexer": "ipython3",
   "version": "3.10.14"
  }
 },
 "nbformat": 4,
 "nbformat_minor": 2
}
