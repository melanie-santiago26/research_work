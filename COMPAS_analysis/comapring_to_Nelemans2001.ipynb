{
 "cells": [
  {
   "cell_type": "markdown",
   "id": "fb6248f3",
   "metadata": {},
   "source": [
    "This notebook is to compare the rates we compute with those of Nelemans 2001"
   ]
  },
  {
   "cell_type": "code",
   "execution_count": 1,
   "id": "9c084bfa",
   "metadata": {},
   "outputs": [],
   "source": [
    "# first let's calculate the star formaing mass per binary\n",
    "\n",
    "\n",
    "###################################################\n",
    "# New version of analytical calculation\n",
    "###################################################\n",
    "def analytical_star_forming_mass_per_binary_using_kroupa_imf(\n",
    "        m1_min, m1_max, m2_min, fbin=1., imf_mass_bounds=[0.01,0.08,0.5,200]\n",
    "):\n",
    "    \"\"\"\n",
    "    Analytical computation of the mass of stars formed per binary star formed within the\n",
    "    [m1 min, m1 max] and [m2 min, ..] rage,\n",
    "    using the Kroupa IMF:\n",
    "\n",
    "        p(M) \\propto M^-0.3 for M between m1 and m2\n",
    "        p(M) \\propto M^-1.3 for M between m2 and m3;\n",
    "        p(M) = alpha * M^-2.3 for M between m3 and m4;\n",
    "\n",
    "    m1_min, m1_max are the min and max sampled primary masses\n",
    "    m2_min is the min sampled secondary mass\n",
    "\n",
    "    This function further assumes a flat mass ratio distribution with qmin = m2_min/m1, and  m2_max = m1_max\n",
    "    Lieke base on Ilya Mandel's derivation\n",
    "    \"\"\"\n",
    "    # Kroupa IMF \n",
    "    m1, m2, m3, m4 = imf_mass_bounds\n",
    "    continuity_constants = [1./(m2*m3), 1./(m3), 1.0]  \n",
    "    IMF_powers = [-0.3, -1.3, -2.3]  \n",
    "\n",
    "    if m1_min < m3:\n",
    "        raise ValueError(f\"This analytical derivation requires IMF break m3  < m1_min ({m3} !< {m1_min})\")\n",
    "    if m1_min > m1_max:\n",
    "        raise ValueError(f\"Minimum sampled primary mass cannot be above maximum sampled primary mass: m1_min ({m1_min} !<  m1_max {m1_max})\")\n",
    "    if m1_max > m4:\n",
    "        raise ValueError(f\"Maximum sampled primary mass cannot be above maximum mass of Kroupa IMF:  m1_max ({m1_max} !<  m4 {m4})\")\n",
    "    \n",
    "    # normalize IMF over the complete mass range:\n",
    "    alpha = (-(m4**(-1.3)-m3**(-1.3))/1.3 - (m3**(-0.3)-m2**(-0.3))/(m3*0.3) + (m2**0.7-m1**0.7)/(m2*m3*0.7))**(-1)\n",
    "    # print('alpha', alpha)\n",
    "\n",
    "    # we want to compute M_stellar_sys_in_universe / N_binaries_in_COMPAS\n",
    "    #  = N_binaries_in_universe/N_binaries_in_COMPAS * N_stellar_sys_in_universe/N_binaries_in_universe * M_stellar_sys_in_universe/N_stellar_sys_in_universe\n",
    "    #  = 1/fint * 1/fbin * average mass of a stellar system in the Universe\n",
    "\n",
    "    # fint =  N_binaries_in_COMPAS/N_binaries_in_universe: fraction of binaries that COMPAS simulates\n",
    "    fint = -alpha / 1.3 * (m1_max ** (-1.3) - m1_min ** (-1.3)) + alpha * m2_min / 2.3 * (m1_max ** (-2.3) - m1_min ** (-2.3))\n",
    "\n",
    "    # Next for N_stellar_sys_in_universe/N_binaries_in_universe * M_stellar_sys_in_universe/N_stellar_sys_in_universe\n",
    "    # N_stellar_sys_in_universe/N_binaries_in_universe = the binary fraction \n",
    "    # fbin edges and values are chosen to approximately follow Figure 1 from Offner et al. (2023)\n",
    "    binary_bin_edges = [m1, 0.08, 0.5, 1, 10, m4]    \n",
    "    if fbin == None:\n",
    "        # use a binary fraction that varies with mass\n",
    "        binaryFractions = [0.1, 0.225, 0.5, 0.8, 1.0] \n",
    "    else:\n",
    "        # otherwise use a constant binary fraction\n",
    "        binaryFractions = [fbin] * 5\n",
    "\n",
    "    # M_stellar_sys_in_universe/N_stellar_sys_in_universe = average mass of a stellar system in the Universe,\n",
    "    # we are computing 1/fbin * M_stellar_sys_in_universe/N_stellar_sys_in_universe, skipping steps this leads to:\n",
    "    # int_A^B (1/fb(m1) + 0.5) m1 P(m1) dm1. \n",
    "    # This is a double piecewise integral, i.e. pieces over the binary fraction bins and IMF mass bins.\n",
    "    piece_wise_integral = 0\n",
    "\n",
    "    # For every binary fraction bin\n",
    "    for i in range(len(binary_bin_edges) - 1):\n",
    "        fbin = binaryFractions[i] # Binary fraction for this range\n",
    "\n",
    "        # And every piece of the Kroupa IMF\n",
    "        for j in range(len(imf_mass_bounds) - 1):\n",
    "            exponent = IMF_powers[j] # IMF exponent for these masses\n",
    "\n",
    "            # Check if the binary fraction bin overlaps with the IMF mass bin\n",
    "            if binary_bin_edges[i + 1] <= imf_mass_bounds[j] or binary_bin_edges[i] >= imf_mass_bounds[j + 1]:\n",
    "                continue  # No overlap\n",
    "\n",
    "            # Integrate from the most narrow range\n",
    "            m_start = max(binary_bin_edges[i], imf_mass_bounds[j])\n",
    "            m_end = min(binary_bin_edges[i + 1], imf_mass_bounds[j + 1])\n",
    "\n",
    "            # Compute the definite integral:\n",
    "            integral = ( m_end**(exponent + 2) - m_start**(exponent + 2) ) / (exponent + 2) * continuity_constants[j]\n",
    "\n",
    "            # Compute the sum term\n",
    "            sum_term = (1 /fbin + 0.5) * integral\n",
    "            piece_wise_integral += sum_term\n",
    "\n",
    "    # combining them:\n",
    "    Average_mass_stellar_sys_per_fbin = alpha * piece_wise_integral\n",
    "\n",
    "    # Now compute the average mass per binary in COMPAS M_stellar_sys_in_universe / N_binaries_in_COMPAS\n",
    "    M_sf_Univ_per_N_binary_COMPAS = (1/fint) * Average_mass_stellar_sys_per_fbin\n",
    "\n",
    "    return M_sf_Univ_per_N_binary_COMPAS"
   ]
  },
  {
   "cell_type": "code",
   "execution_count": 2,
   "id": "13f0614f",
   "metadata": {},
   "outputs": [],
   "source": [
    "# let's compute what the mass evolved per binary is from the function above \n",
    "\n",
    "COMPAS_mass_evolved_per_binary  = analytical_star_forming_mass_per_binary_using_kroupa_imf(m1_min = 0.9, m1_max = 100, m2_min = 0.9, fbin=1., imf_mass_bounds=[0.01,0.08,0.5,200])"
   ]
  },
  {
   "cell_type": "code",
   "execution_count": null,
   "id": "4bf3e167",
   "metadata": {},
   "outputs": [
    {
     "name": "stdout",
     "output_type": "stream",
     "text": [
      "Average_SF_mass_needed =  19219890.81441871\n"
     ]
    }
   ],
   "source": [
    "# Calculate the representative average star forming mass \n",
    "\n",
    "# define COMPAS.nsystems\n",
    "COMPAS_n_systems = 1e6 # for the systems we ran for thesis \n",
    "\n",
    "Average_SF_mass_needed = (COMPAS_mass_evolved_per_binary * COMPAS_n_systems)\n",
    "print('Average_SF_mass_needed = ', Average_SF_mass_needed) # print this, because it might come in handy to know when writing up results :)\n",
    "# "
   ]
  },
  {
   "cell_type": "code",
   "execution_count": null,
   "id": "5f5a032f",
   "metadata": {},
   "outputs": [],
   "source": []
  },
  {
   "cell_type": "code",
   "execution_count": null,
   "id": "6333af1b",
   "metadata": {},
   "outputs": [],
   "source": [
    "Rate per year = sum(weight[bool])/Average_SF_mass_needed * SFR"
   ]
  }
 ],
 "metadata": {
  "kernelspec": {
   "display_name": "notebook",
   "language": "python",
   "name": "python3"
  },
  "language_info": {
   "codemirror_mode": {
    "name": "ipython",
    "version": 3
   },
   "file_extension": ".py",
   "mimetype": "text/x-python",
   "name": "python",
   "nbconvert_exporter": "python",
   "pygments_lexer": "ipython3",
   "version": "3.10.14"
  }
 },
 "nbformat": 4,
 "nbformat_minor": 5
}
